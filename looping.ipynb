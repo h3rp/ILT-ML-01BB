{
  "nbformat": 4,
  "nbformat_minor": 0,
  "metadata": {
    "colab": {
      "provenance": []
    },
    "kernelspec": {
      "name": "python3",
      "display_name": "Python 3"
    },
    "language_info": {
      "name": "python"
    }
  },
  "cells": [
    {
      "cell_type": "code",
      "execution_count": 3,
      "metadata": {
        "colab": {
          "base_uri": "https://localhost:8080/"
        },
        "id": "4Qvog5wd8OKV",
        "outputId": "b9244084-a300-42b4-dd8f-7dc31f50a341"
      },
      "outputs": [
        {
          "output_type": "stream",
          "name": "stdout",
          "text": [
            "Ini adalah looping ke 7\n",
            "Ini adalah looping ke 6\n",
            "Ini adalah looping ke 5\n",
            "Ini adalah looping ke 4\n",
            "Ini adalah looping ke 3\n",
            "Ini adalah looping ke 2\n",
            "Ini adalah looping ke 1\n"
          ]
        }
      ],
      "source": [
        "a = 7\n",
        "\n",
        "while a > 0 :\n",
        "  print(f'Ini adalah looping ke {a}')\n",
        "  a -=1\n"
      ]
    }
  ]
}